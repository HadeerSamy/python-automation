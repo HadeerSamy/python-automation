{
 "cells": [
  {
   "cell_type": "code",
   "execution_count": 1,
   "metadata": {},
   "outputs": [],
   "source": [
    "# importing necessary libraries\n",
    "import pandas as pd\n",
    "from selenium import webdriver\n",
    "import time\n",
    "from selenium.webdriver.chrome.options import Options\n",
    "from selenium.webdriver.common.by import By"
   ]
  },
  {
   "cell_type": "code",
   "execution_count": 2,
   "metadata": {},
   "outputs": [],
   "source": [
    "#importing paths\n",
    "csv_path = \"names.csv\"\n",
    "chrome_path = \"D:\\iti\\chromedriver-win64\\chromedriver-win64\\chromedriver.exe\""
   ]
  },
  {
   "cell_type": "code",
   "execution_count": 3,
   "metadata": {},
   "outputs": [],
   "source": [
    "#read data from excel\n",
    "df = pd.read_csv(csv_path)\n"
   ]
  },
  {
   "cell_type": "code",
   "execution_count": 4,
   "metadata": {},
   "outputs": [],
   "source": [
    "#creating op object\n",
    "op = Options()\n",
    "\n",
    "# Set the path to the ChromeDriver executable\n",
    "op.add_argument('--chromedriver-path=D:\\iti\\chromedriver-win64\\chromedriver-win64\\chromedriver.exe')\n",
    "\n",
    "# Initialize WebDriver Chrome\n",
    "driver = webdriver.Chrome(options=op)"
   ]
  },
  {
   "cell_type": "code",
   "execution_count": 5,
   "metadata": {},
   "outputs": [],
   "source": [
    "# Open the Google Form\n",
    "form_url = 'https://forms.gle/g9adt1tv1B1U4hUo6'\n",
    "driver.get(form_url)"
   ]
  },
  {
   "cell_type": "code",
   "execution_count": 6,
   "metadata": {},
   "outputs": [],
   "source": [
    "#getting paths to the inputs\n",
    "name_css = \"#mG61Hd > div.RH5hzf.RLS9Fe > div > div.o3Dpx > div:nth-child(1) > div > div > div.AgroKb > div > div.aCsJod.oJeWuf > div > div.Xb9hP > input\"\n",
    "code_css = \"#mG61Hd > div.RH5hzf.RLS9Fe > div > div.o3Dpx > div:nth-child(2) > div > div > div.AgroKb > div > div.aCsJod.oJeWuf > div > div.Xb9hP > input\"\n",
    "submit_css = \"#mG61Hd > div.RH5hzf.RLS9Fe > div > div.ThHDze > div.DE3NNc.CekdCb > div.lRwqcd > div\"\n",
    "getting_back_css = \"body > div.Uc2NEf > div:nth-child(2) > div.RH5hzf.RLS9Fe > div > div.c2gzEf > a\""
   ]
  },
  {
   "cell_type": "code",
   "execution_count": 7,
   "metadata": {},
   "outputs": [
    {
     "name": "stdout",
     "output_type": "stream",
     "text": [
      "123 code\n",
      "hadeer name\n",
      "456 code\n",
      "basmala name\n",
      "246 code\n",
      "dina name\n",
      "890 code\n",
      "dox name\n",
      "357 code\n",
      "amir name\n"
     ]
    }
   ],
   "source": [
    "for index, row in df.iterrows():\n",
    "\n",
    "    # Locate the name and code input elements \n",
    "    name_element = driver.find_element(By.CSS_SELECTOR, name_css)\n",
    "    code_element = driver.find_element(By.CSS_SELECTOR, code_css)\n",
    "\n",
    "    #to ensure that the elements are editable\n",
    "    time.sleep(1)\n",
    "\n",
    "    # Enter data from the current row of the DataFrame\n",
    "    name_element.send_keys(row['name'])\n",
    "    code_element.send_keys(row['code'])\n",
    "\n",
    "    #locate the button submit\n",
    "    button_element = driver.find_element(By.CSS_SELECTOR, submit_css)\n",
    "    button_element.click()\n",
    "\n",
    "\n",
    "    #getting back to send another response\n",
    "    back_element = driver.find_element(By.CSS_SELECTOR, getting_back_css)\n",
    "    back_element.click()\n",
    "\n",
    "\n",
    "\n",
    "    # Wait for a moment to ensure the form is submitted successfully\n",
    "    time.sleep(2)\n",
    "driver.quit()\n"
   ]
  },
  {
   "cell_type": "code",
   "execution_count": null,
   "metadata": {},
   "outputs": [],
   "source": []
  }
 ],
 "metadata": {
  "kernelspec": {
   "display_name": "Python 3",
   "language": "python",
   "name": "python3"
  },
  "language_info": {
   "codemirror_mode": {
    "name": "ipython",
    "version": 3
   },
   "file_extension": ".py",
   "mimetype": "text/x-python",
   "name": "python",
   "nbconvert_exporter": "python",
   "pygments_lexer": "ipython3",
   "version": "3.11.4"
  }
 },
 "nbformat": 4,
 "nbformat_minor": 2
}
